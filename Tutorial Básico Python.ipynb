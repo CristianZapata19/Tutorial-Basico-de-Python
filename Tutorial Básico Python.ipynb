{
 "cells": [
  {
   "cell_type": "markdown",
   "id": "3a699658",
   "metadata": {},
   "source": [
    "# Tutorial Básico de Python\n",
    "\n",
    "**Autor:** Cristian Andrés Zapata Arenas  \n",
    "**Objetivo:** Introducir los conceptos fundamentales de Python para principiantes, con ejemplos claros y organizados.\n",
    "\n",
    "¡Bienvenido al tutorial de operaciones básicas en Python! En esta introducción se mostrará cómo realizar cálculos sencillos como sumas, restas, multiplicaciones y divisiones, etc. Estas operaciones son el primer paso para entender cómo manipular datos y construir programas cada vez más complejos. Con una sintaxis clara y fácil de leer, Python te permite ejecutar estas operaciones de forma rápida y efectiva."
   ]
  },
  {
   "cell_type": "markdown",
   "id": "50080f77",
   "metadata": {},
   "source": [
    "---"
   ]
  },
  {
   "cell_type": "markdown",
   "id": "4ffdbda8",
   "metadata": {},
   "source": [
    "## 1. Variables y Convenciones de Nombres\n",
    "\n",
    "**Propósito:** Demostrar la declaración básica de variables y establecer las reglas de nomenclatura más importantes (**PEP 8**) para escribir código legible y profesional."
   ]
  },
  {
   "cell_type": "markdown",
   "id": "e20adb42",
   "metadata": {},
   "source": [
    "---"
   ]
  },
  {
   "cell_type": "code",
   "execution_count": 4,
   "id": "d5be634d",
   "metadata": {},
   "outputs": [
    {
     "name": "stdout",
     "output_type": "stream",
     "text": [
      "Nombre: Cristian, Tipo: <class 'str'>\n",
      "Edad: 19, Tipo: <class 'int'>\n",
      "Salario: 1000\n"
     ]
    }
   ],
   "source": [
    "# Declaración básica de variables en Python (tipado dinámico)\n",
    "edad_usuario = 19\n",
    "nombre_completo = \"Cristian\"\n",
    "pi_constante = 3.14159\n",
    "esta_activo = True\n",
    "\n",
    "# Usamos f-strings para imprimir el valor y el tipo de dato\n",
    "print(f\"Nombre: {nombre_completo}, Tipo: {type(nombre_completo)}\")\n",
    "print(f\"Edad: {edad_usuario}, Tipo: {type(edad_usuario)}\")\n",
    "\n",
    "# Mala Práctica vs. Buena Práctica (Seguimiento de snake_case)\n",
    "x = 100       # Mala práctica: No es descriptivo\n",
    "salario_mensual = 1000  # Buena práctica: Usa snake_case y es descriptivo\n",
    "print(f\"Salario: {salario_mensual}\")"
   ]
  },
  {
   "cell_type": "markdown",
   "id": "21b78d98",
   "metadata": {},
   "source": [
    "## 2. Tipos de Datos Fundamentales\n",
    "\n",
    "**Propósito:** Identificar y diferenciar los principales tipos de datos que utiliza Python: números enteros, decimales, cadenas de texto y booleanos."
   ]
  },
  {
   "cell_type": "code",
   "execution_count": 5,
   "id": "af03b147",
   "metadata": {},
   "outputs": [
    {
     "name": "stdout",
     "output_type": "stream",
     "text": [
      "El tipo de 10 es: <class 'int'>\n",
      "El tipo de 3.1416 es: <class 'float'>\n",
      "El tipo de 'Hola Python' es: <class 'str'>\n",
      "El tipo de True es: <class 'bool'>\n"
     ]
    }
   ],
   "source": [
    "# Definición de tipos de datos básicos\n",
    "entero = 10         # int (Integer)\n",
    "flotante = 3.1416   # float\n",
    "cadena = \"Hola Python\" # str (String)\n",
    "booleano = True     # bool (Boolean, True o False)\n",
    "\n",
    "# Función type() para verificar el tipo de cualquier objeto\n",
    "print(f\"El tipo de {entero} es: {type(entero)}\")\n",
    "print(f\"El tipo de {flotante} es: {type(flotante)}\")\n",
    "print(f\"El tipo de '{cadena}' es: {type(cadena)}\")\n",
    "print(f\"El tipo de {booleano} es: {type(booleano)}\")"
   ]
  },
  {
   "cell_type": "markdown",
   "id": "e3ba6407",
   "metadata": {},
   "source": [
    "---"
   ]
  },
  {
   "cell_type": "markdown",
   "id": "a2216d05",
   "metadata": {},
   "source": [
    "## 3. Operadores y Expresiones\n",
    "\n",
    "**Propósito:** Mostrar cómo realizar operaciones aritméticas, lógicas y de manipulación de cadenas de texto. Entender la diferencia entre división normal (`/`) y división entera (`//`)."
   ]
  },
  {
   "cell_type": "markdown",
   "id": "2b2e358f",
   "metadata": {},
   "source": [
    "---"
   ]
  },
  {
   "cell_type": "code",
   "execution_count": 6,
   "id": "390bc182",
   "metadata": {},
   "outputs": [
    {
     "name": "stdout",
     "output_type": "stream",
     "text": [
      "Suma (a + b): 20\n",
      "División (a / b): 3.0\n",
      "División Entera (a // b): 3\n",
      "Módulo (a % b): 0\n",
      "Potencia (a ** 2): 225\n",
      "AND (x and y): False\n",
      "NOT (not x): False\n",
      "Hola, Python\n",
      "Todo en minúsculas:   cristian programador  \n",
      "Eliminar espacios iniciales/finales: 'CRISTIAN ProGramador'\n"
     ]
    }
   ],
   "source": [
    "# --- 3.1 Operadores Aritméticos ---\n",
    "a = 15\n",
    "b = 5\n",
    "print(f\"Suma (a + b): {a + b}\")\n",
    "print(f\"División (a / b): {a / b}\")        # 3.0 (Resultado flotante)\n",
    "print(f\"División Entera (a // b): {a // b}\") # 3 (Resultado entero)\n",
    "print(f\"Módulo (a % b): {a % b}\")          # 0 (El resto de 15 / 5)\n",
    "print(f\"Potencia (a ** 2): {a ** 2}\")      # 225\n",
    "\n",
    "# --- 3.2 Operadores Lógicos ---\n",
    "x = True\n",
    "y = False\n",
    "print(f\"AND (x and y): {x and y}\")\n",
    "print(f\"NOT (not x): {not x}\")\n",
    "\n",
    "# --- 3.3 Operadores en Cadenas (String) ---\n",
    "nombre = \"Python\"\n",
    "saludo = \"Hola, \" + nombre  # Concatenación\n",
    "print(saludo)\n",
    "texto = \"  CRISTIAN ProGramador  \"\n",
    "print(f\"Todo en minúsculas: {texto.lower()}\")\n",
    "print(f\"Eliminar espacios iniciales/finales: '{texto.strip()}'\")"
   ]
  },
  {
   "cell_type": "markdown",
   "id": "2b288683",
   "metadata": {},
   "source": [
    "## 4. Estructuras de Datos\n",
    "\n",
    "**Propósito:** Introducir las cuatro colecciones fundamentales de Python (Listas, Tuplas, Diccionarios y Sets) y sus métodos básicos, destacando la mutabilidad de cada una."
   ]
  },
  {
   "cell_type": "markdown",
   "id": "5dbac082",
   "metadata": {},
   "source": [
    "---"
   ]
  },
  {
   "cell_type": "code",
   "execution_count": 7,
   "id": "a3b4fbed",
   "metadata": {},
   "outputs": [
    {
     "name": "stdout",
     "output_type": "stream",
     "text": [
      "Lista final: [1, 2, 10, 4.0], Eliminado: 5\n",
      "Elemento en índice 1: Cristian\n",
      "Longitud de la tupla: 3\n",
      "\n",
      "Diccionario: {'nombre': 'Cristian', 'edad': 20, 'profesion': 'Estudiante'}\n",
      "Clave: nombre, Valor: Cristian\n",
      "Clave: edad, Valor: 20\n",
      "Clave: profesion, Valor: Estudiante\n",
      "\n",
      "Set final: {1, 3, 4, 5}\n"
     ]
    }
   ],
   "source": [
    "# --- 4.1 Listas (Mutables, Ordenadas) ---\n",
    "mi_lista = [1, 2, \"tres\", 4.0]\n",
    "mi_lista.append(5)        # Añadir al final\n",
    "mi_lista.insert(2, 10)    # Insertar en índice 2\n",
    "mi_lista.remove(\"tres\")   # Eliminar por valor\n",
    "ultimo_valor = mi_lista.pop() # Eliminar y obtener el último\n",
    "\n",
    "print(f\"Lista final: {mi_lista}, Eliminado: {ultimo_valor}\")\n",
    "\n",
    "# --- 4.2 Tuplas (Inmutables, Ordenadas) ---\n",
    "mi_tupla = (1, \"Cristian\", True)\n",
    "print(f\"Elemento en índice 1: {mi_tupla[1]}\")\n",
    "print(f\"Longitud de la tupla: {len(mi_tupla)}\")\n",
    "\n",
    "# --- 4.3 Diccionarios (Clave-Valor, Mutables) ---\n",
    "mi_dic = {\"nombre\": \"Cristian\", \"edad\": 19}\n",
    "mi_dic[\"edad\"] = 20           # Modificar valor\n",
    "mi_dic[\"profesion\"] = \"Estudiante\" # Añadir par\n",
    "print(f\"\\nDiccionario: {mi_dic}\")\n",
    "for clave, valor in mi_dic.items():\n",
    "    print(f\"Clave: {clave}, Valor: {valor}\")\n",
    "\n",
    "# --- 4.4 Sets (Sin Duplicados, Desordenados) ---\n",
    "mi_set = {1, 2, 2, 3, 4} # El 2 duplicado se ignora\n",
    "mi_set.add(5)\n",
    "mi_set.discard(2)\n",
    "print(f\"\\nSet final: {mi_set}\")"
   ]
  },
  {
   "cell_type": "markdown",
   "id": "63e49cdd",
   "metadata": {},
   "source": [
    "## 5. Control de Flujo\n",
    "\n",
    "**Propósito:** Usar estructuras condicionales (`if/elif/else`) para ejecutar código basado en condiciones y bucles (`for/while`) para repetir tareas."
   ]
  },
  {
   "cell_type": "markdown",
   "id": "e17cc3ff",
   "metadata": {},
   "source": [
    "---"
   ]
  },
  {
   "cell_type": "code",
   "execution_count": 9,
   "id": "71ed94dd",
   "metadata": {},
   "outputs": [
    {
     "name": "stdout",
     "output_type": "stream",
     "text": [
      "Mayor de edad\n",
      "\n",
      "Bucle For:\n",
      "Número: 1\n",
      "Número: 2\n",
      "Número: 3\n",
      "Número: 4\n",
      "Número: 5\n",
      "\n",
      "Bucle While:\n",
      "Contador: 1\n",
      "Contador: 3\n"
     ]
    }
   ],
   "source": [
    "# --- 5.1 Condicionales ---\n",
    "edad = 19\n",
    "if edad < 18:\n",
    "    print(\"Menor de edad\")\n",
    "elif edad == 18:\n",
    "    print(\"Tienes 18 años, justo el límite\")\n",
    "else:\n",
    "    print(\"Mayor de edad\")\n",
    "\n",
    "# --- 5.2 Bucle for ---\n",
    "print(\"\\nBucle For:\")\n",
    "# Itera del 1 (incluido) al 6 (excluido)\n",
    "for i in range(1, 6):\n",
    "    print(f\"Número: {i}\")\n",
    "\n",
    "# --- 5.3 Bucle while (break y continue) ---\n",
    "print(\"\\nBucle While:\")\n",
    "contador = 0\n",
    "while contador < 5:\n",
    "    contador += 1\n",
    "    if contador == 2:\n",
    "        continue # Salta la impresión de este ciclo (2)\n",
    "    if contador == 4:\n",
    "        break    # Termina el bucle\n",
    "    print(f\"Contador: {contador}\")"
   ]
  },
  {
   "cell_type": "markdown",
   "id": "b99dd693",
   "metadata": {},
   "source": [
    "## 6. Funciones y Expresiones Lambda\n",
    "\n",
    "**Propósito:** Definir bloques de código reutilizables (funciones) con parámetros y valor de retorno, además de introducir las funciones anónimas (`lambda`)."
   ]
  },
  {
   "cell_type": "markdown",
   "id": "9497ddf7",
   "metadata": {},
   "source": [
    "---"
   ]
  },
  {
   "cell_type": "code",
   "execution_count": 10,
   "id": "a81918c5",
   "metadata": {},
   "outputs": [
    {
     "name": "stdout",
     "output_type": "stream",
     "text": [
      "Hola, Cristian\n",
      "Resultado de la suma: 15\n",
      "El doble de 6 es: 12\n",
      "La resta (9 - 2) es: 7\n"
     ]
    }
   ],
   "source": [
    "# Función con un parámetro\n",
    "def saludar(nombre):\n",
    "    \"\"\"Función que imprime un saludo personalizado.\"\"\"\n",
    "    print(f\"Hola, {nombre}\")\n",
    "\n",
    "saludar(\"Cristian\")\n",
    "\n",
    "# Función con valor de retorno\n",
    "def sumar(a, b):\n",
    "    return a + b\n",
    "\n",
    "resultado = sumar(10, 5)\n",
    "print(f\"Resultado de la suma: {resultado}\")\n",
    "\n",
    "# Función anónima (lambda): Ideal para tareas sencillas y rápidas\n",
    "doblar = lambda x: x * 2\n",
    "print(f\"El doble de 6 es: {doblar(6)}\")\n",
    "\n",
    "restar_lambda = lambda x, y: x - y\n",
    "print(f\"La resta (9 - 2) es: {restar_lambda(9, 2)}\")"
   ]
  },
  {
   "cell_type": "markdown",
   "id": "7342ff0b",
   "metadata": {},
   "source": [
    "## 7. Manejo de Errores\n",
    "\n",
    "**Propósito:** Prevenir que el programa se detenga abruptamente utilizando bloques `try`, `except` y `finally` para gestionar errores (`Excepciones`)."
   ]
  },
  {
   "cell_type": "markdown",
   "id": "c3f50e79",
   "metadata": {},
   "source": [
    "---"
   ]
  },
  {
   "cell_type": "code",
   "execution_count": 11,
   "id": "a453df92",
   "metadata": {},
   "outputs": [
    {
     "name": "stdout",
     "output_type": "stream",
     "text": [
      "Error: No se puede convertir texto no numérico a entero.\n",
      "Ejecución del bloque try-except terminada.\n",
      "El resultado es: 5.0\n"
     ]
    }
   ],
   "source": [
    "try:\n",
    "    # Intenta ejecutar este bloque\n",
    "    num = int(\"hola\")\n",
    "except ValueError:\n",
    "    # Si el error es de tipo ValueError, ejecuta esto\n",
    "    print(\"Error: No se puede convertir texto no numérico a entero.\")\n",
    "except Exception as e:\n",
    "    # Para cualquier otro error no previsto\n",
    "    print(f\"Ocurrió un error inesperado: {e}\")\n",
    "finally:\n",
    "    # Este bloque siempre se ejecuta, al final del intento\n",
    "    print(\"Ejecución del bloque try-except terminada.\")\n",
    "\n",
    "# Ejemplo exitoso\n",
    "try:\n",
    "    resultado = 10 / 2\n",
    "except ZeroDivisionError:\n",
    "    print(\"Error: División por cero.\")\n",
    "else:\n",
    "    # Se ejecuta si NO hubo excepciones\n",
    "    print(f\"El resultado es: {resultado}\")"
   ]
  },
  {
   "cell_type": "markdown",
   "id": "d98fcc1a",
   "metadata": {},
   "source": [
    "## 8. Módulos e Importaciones\n",
    "\n",
    "**Propósito:** Incorporar funcionalidades externas a nuestro código mediante la importación de módulos (bibliotecas), como el módulo estándar `math`."
   ]
  },
  {
   "cell_type": "code",
   "execution_count": 12,
   "id": "6b942601",
   "metadata": {},
   "outputs": [
    {
     "name": "stdout",
     "output_type": "stream",
     "text": [
      "Raíz cuadrada de 16: 4.0\n",
      "Constante PI: 3.141592653589793\n",
      "Factorial de 5: 120\n",
      "Raíz cuadrada de 25: 5.0\n",
      "Potencia (2 elevado a 3): 8.0\n"
     ]
    }
   ],
   "source": [
    "# 1. Importación completa: Se accede con el nombre del módulo (math.sqrt)\n",
    "import math\n",
    "print(f\"Raíz cuadrada de 16: {math.sqrt(16)}\")\n",
    "print(f\"Constante PI: {math.pi}\")\n",
    "\n",
    "# 2. Importación con alias: Se accede con el alias (m.factorial)\n",
    "import math as m\n",
    "print(f\"Factorial de 5: {m.factorial(5)}\")\n",
    "\n",
    "# 3. Importación selectiva: Se accede directamente a la función (pow)\n",
    "from math import sqrt, pow\n",
    "print(f\"Raíz cuadrada de 25: {sqrt(25)}\")\n",
    "print(f\"Potencia (2 elevado a 3): {pow(2, 3)}\")"
   ]
  },
  {
   "cell_type": "markdown",
   "id": "ba47eb51",
   "metadata": {},
   "source": [
    "## 9. Ejemplo Final Integrado\n",
    "\n",
    "**Propósito:** Unir varios conceptos (módulos, funciones, listas, bucles y formateo de texto) en un ejercicio práctico para calcular áreas de círculos."
   ]
  },
  {
   "cell_type": "markdown",
   "id": "fe8d0dda",
   "metadata": {},
   "source": [
    "---"
   ]
  },
  {
   "cell_type": "code",
   "execution_count": 13,
   "id": "fedbd75a",
   "metadata": {},
   "outputs": [
    {
     "name": "stdout",
     "output_type": "stream",
     "text": [
      "--- Resultados de Área ---\n",
      "Radio: 1.0 cm | Área: 3.14 cm²\n",
      "Radio: 2.5 cm | Área: 19.63 cm²\n",
      "Radio: 4.0 cm | Área: 50.27 cm²\n",
      "Radio: 5.0 cm | Área: 78.54 cm²\n"
     ]
    }
   ],
   "source": [
    "import math\n",
    "\n",
    "def area_circulo(radio):\n",
    "    \"\"\"Calcula el área de un círculo usando la fórmula: π * r^2.\"\"\"\n",
    "    return math.pi * radio ** 2\n",
    "\n",
    "radios = [1.0, 2.5, 4.0, 5.0]\n",
    "\n",
    "# List Comprehension: forma rápida de crear una lista aplicando una función\n",
    "areas = [area_circulo(r) for r in radios]\n",
    "\n",
    "# Iterar sobre las listas usando zip y formatear la salida\n",
    "print(\"--- Resultados de Área ---\")\n",
    "for r, a in zip(radios, areas):\n",
    "    # Formateo de cadena (f-string) para limitar el área a dos decimales (: .2f)\n",
    "    print(f\"Radio: {r:.1f} cm | Área: {a:.2f} cm²\")"
   ]
  }
 ],
 "metadata": {
  "kernelspec": {
   "display_name": "Python 3",
   "language": "python",
   "name": "python3"
  },
  "language_info": {
   "codemirror_mode": {
    "name": "ipython",
    "version": 3
   },
   "file_extension": ".py",
   "mimetype": "text/x-python",
   "name": "python",
   "nbconvert_exporter": "python",
   "pygments_lexer": "ipython3",
   "version": "3.13.7"
  }
 },
 "nbformat": 4,
 "nbformat_minor": 5
}
