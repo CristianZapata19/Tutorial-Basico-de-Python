{
 "cells": [
  {
   "cell_type": "markdown",
   "id": "e9bc322e",
   "metadata": {},
   "source": [
    "# Tutorial Básico de Python\n",
    "\n",
    "**Autor:** Cristian Andrés Zapata Arenas  \n",
    "**Objetivo:** Introducir los conceptos fundamentales de Python para principiantes, con ejemplos claros y organizados.\n",
    "\n",
    "¡Bienvenido al tutorial de operaciones básicas en Python! En esta introducción se mostrará cómo realizar cálculos sencillos como sumas, restas, multiplicaciones y divisiones, etc. Estas operaciones son el primer paso para entender cómo manipular datos y construir programas cada vez más complejos. Con una sintaxis clara y fácil de leer, Python te permite ejecutar estas operaciones de forma rápida y efectiva."
   ]
  },
  {
   "cell_type": "markdown",
   "id": "6922792a",
   "metadata": {},
   "source": [
    "## 1. Variables y Buenas Prácticas de Nombres"
   ]
  },
  {
   "cell_type": "code",
   "execution_count": null,
   "id": "22e34fde",
   "metadata": {},
   "outputs": [
    {
     "name": "stdout",
     "output_type": "stream",
     "text": [
      "19 Cristian 3.1416 True\n"
     ]
    }
   ],
   "source": [
    "# Ejemplos de variables\n",
    "edad = 19\n",
    "nombre = \"Cristian\"\n",
    "pi = 3.1416\n",
    "es_estudiante = True\n",
    "\n",
    "print(edad, nombre, pi, es_estudiante)"
   ]
  },
  {
   "cell_type": "markdown",
   "id": "1572ad5b",
   "metadata": {},
   "source": [
    "**Buenas prácticas:**\n",
    "- Usar **snake_case**: `mi_variable = 10`\n",
    "- Nombres descriptivos: `salario_mensual`, no `x1`\n",
    "- No usar palabras reservadas (`for`, `if`, `while`, etc.)"
   ]
  },
  {
   "cell_type": "code",
   "execution_count": null,
   "id": "10cf63e4",
   "metadata": {},
   "outputs": [],
   "source": [
    "# Mala práctica\n",
    "a = 100  \n",
    "\n",
    "# Buena práctica\n",
    "salario_mensual = 100"
   ]
  },
  {
   "cell_type": "markdown",
   "id": "4f924efe",
   "metadata": {},
   "source": [
    "## 2. Tipos de Datos en Python"
   ]
  },
  {
   "cell_type": "code",
   "execution_count": null,
   "id": "4f013c8b",
   "metadata": {},
   "outputs": [
    {
     "name": "stdout",
     "output_type": "stream",
     "text": [
      "<class 'int'>\n",
      "<class 'float'>\n",
      "<class 'str'>\n",
      "<class 'bool'>\n"
     ]
    }
   ],
   "source": [
    "print(type(10))       # <class 'int'>\n",
    "print(type(3.14))     # <class 'float'>\n",
    "print(type(\"Hola\"))   # <class 'str'>\n",
    "print(type(True))     # <class 'bool'>"
   ]
  },
  {
   "cell_type": "markdown",
   "id": "f20072ac",
   "metadata": {},
   "source": [
    "## 3. Operaciones Básicas"
   ]
  },
  {
   "cell_type": "code",
   "execution_count": null,
   "id": "cecb5565",
   "metadata": {},
   "outputs": [
    {
     "name": "stdout",
     "output_type": "stream",
     "text": [
      "20\n",
      "10\n",
      "75\n",
      "3.0\n",
      "3\n",
      "0\n",
      "759375\n"
     ]
    }
   ],
   "source": [
    "a = 15\n",
    "b = 5\n",
    "\n",
    "print(a + b)   # Suma\n",
    "print(a - b)   # Resta\n",
    "print(a * b)   # Multiplicación\n",
    "print(a / b)   # División\n",
    "print(a // b)  # División entera\n",
    "print(a % b)   # Módulo\n",
    "print(a ** b)  # Potencia"
   ]
  },
  {
   "cell_type": "code",
   "execution_count": null,
   "id": "459ef06e",
   "metadata": {},
   "outputs": [
    {
     "name": "stdout",
     "output_type": "stream",
     "text": [
      "False\n",
      "True\n",
      "False\n"
     ]
    }
   ],
   "source": [
    "x = True\n",
    "y = False\n",
    "\n",
    "print(x and y)\n",
    "print(x or y)\n",
    "print(not x)"
   ]
  },
  {
   "cell_type": "code",
   "execution_count": null,
   "id": "7a17de1c",
   "metadata": {},
   "outputs": [
    {
     "name": "stdout",
     "output_type": "stream",
     "text": [
      "Hola, Python\n",
      "PythonPythonPython\n",
      "  HOLA MUNDO  \n",
      "  hola mundo  \n",
      "hola mundo\n",
      "  hola Cristian  \n"
     ]
    }
   ],
   "source": [
    "nombre = \"Python\"\n",
    "saludo = \"Hola, \" + nombre\n",
    "repetir = nombre * 3\n",
    "\n",
    "print(saludo)\n",
    "print(repetir)\n",
    "\n",
    "texto = \"  hola mundo  \"\n",
    "print(texto.upper())\n",
    "print(texto.lower())\n",
    "print(texto.strip())\n",
    "print(texto.replace(\"mundo\", \"Cristian\"))"
   ]
  },
  {
   "cell_type": "markdown",
   "id": "4fc819f9",
   "metadata": {},
   "source": [
    "## 4. Estructuras de Datos"
   ]
  },
  {
   "cell_type": "code",
   "execution_count": null,
   "id": "19e00dc0",
   "metadata": {},
   "outputs": [
    {
     "name": "stdout",
     "output_type": "stream",
     "text": [
      "[1, 2, 10, 4]\n",
      "Eliminado: 5\n"
     ]
    }
   ],
   "source": [
    "# Listas\n",
    "mi_lista = [1, 2, 3, 4]\n",
    "mi_lista.append(5)\n",
    "mi_lista.insert(2, 10)\n",
    "mi_lista.remove(3)\n",
    "ultimo = mi_lista.pop()\n",
    "\n",
    "print(mi_lista)\n",
    "print(\"Eliminado:\", ultimo)"
   ]
  },
  {
   "cell_type": "code",
   "execution_count": null,
   "id": "0d31c363",
   "metadata": {},
   "outputs": [
    {
     "name": "stdout",
     "output_type": "stream",
     "text": [
      "1\n",
      "3\n"
     ]
    }
   ],
   "source": [
    "# Tuplas\n",
    "mi_tupla = (1, \"Cristian\", True)\n",
    "print(mi_tupla[0])\n",
    "print(len(mi_tupla))"
   ]
  },
  {
   "cell_type": "code",
   "execution_count": null,
   "id": "0ff1d890",
   "metadata": {},
   "outputs": [
    {
     "name": "stdout",
     "output_type": "stream",
     "text": [
      "{'nombre': 'Cristian', 'edad': 20, 'profesion': 'Estudiante'}\n",
      "nombre : Cristian\n",
      "edad : 20\n",
      "profesion : Estudiante\n"
     ]
    }
   ],
   "source": [
    "# Diccionarios\n",
    "mi_dic = {\"nombre\": \"Cristian\", \"edad\": 19}\n",
    "mi_dic[\"edad\"] = 20\n",
    "mi_dic[\"profesion\"] = \"Estudiante\"\n",
    "print(mi_dic)\n",
    "\n",
    "for clave, valor in mi_dic.items():\n",
    "    print(clave, \":\", valor)"
   ]
  },
  {
   "cell_type": "code",
   "execution_count": null,
   "id": "91791bdd",
   "metadata": {},
   "outputs": [
    {
     "name": "stdout",
     "output_type": "stream",
     "text": [
      "{1, 3, 4}\n"
     ]
    }
   ],
   "source": [
    "# Sets\n",
    "mi_set = {1, 2, 2, 3}\n",
    "mi_set.add(4)\n",
    "mi_set.discard(2)\n",
    "print(mi_set)"
   ]
  },
  {
   "cell_type": "markdown",
   "id": "e3f05b6b",
   "metadata": {},
   "source": [
    "## 5. Control de Flujo"
   ]
  },
  {
   "cell_type": "code",
   "execution_count": null,
   "id": "e59b8e32",
   "metadata": {},
   "outputs": [
    {
     "name": "stdout",
     "output_type": "stream",
     "text": [
      "Mayor de edad\n"
     ]
    }
   ],
   "source": [
    "# Condicionales\n",
    "edad = 19\n",
    "if edad < 18:\n",
    "    print(\"Menor de edad\")\n",
    "elif edad == 18:\n",
    "    print(\"Tienes 18 años\")\n",
    "else:\n",
    "    print(\"Mayor de edad\")"
   ]
  },
  {
   "cell_type": "code",
   "execution_count": null,
   "id": "5992bd49",
   "metadata": {},
   "outputs": [
    {
     "name": "stdout",
     "output_type": "stream",
     "text": [
      "Número: 1\n",
      "Número: 2\n",
      "Número: 3\n",
      "Número: 4\n",
      "Número: 5\n",
      "0\n",
      "1\n",
      "3\n"
     ]
    }
   ],
   "source": [
    "# Bucles\n",
    "for i in range(1, 6):\n",
    "    print(\"Número:\", i)\n",
    "\n",
    "contador = 0\n",
    "while contador < 5:\n",
    "    if contador == 2:\n",
    "        contador += 1\n",
    "        continue\n",
    "    if contador == 4:\n",
    "        break\n",
    "    print(contador)\n",
    "    contador += 1"
   ]
  },
  {
   "cell_type": "markdown",
   "id": "74fcfd12",
   "metadata": {},
   "source": [
    "## 6. Funciones"
   ]
  },
  {
   "cell_type": "code",
   "execution_count": null,
   "id": "ceaabc43",
   "metadata": {},
   "outputs": [
    {
     "name": "stdout",
     "output_type": "stream",
     "text": [
      "Hola, Cristian\n"
     ]
    }
   ],
   "source": [
    "def saludar(nombre):\n",
    "    \"\"\"Función que imprime un saludo personalizado\"\"\"\n",
    "    print(f\"Hola, {nombre}\")\n",
    "\n",
    "saludar(\"Cristian\")"
   ]
  },
  {
   "cell_type": "code",
   "execution_count": null,
   "id": "d5ac0a3a",
   "metadata": {},
   "outputs": [
    {
     "name": "stdout",
     "output_type": "stream",
     "text": [
      "15\n"
     ]
    }
   ],
   "source": [
    "def sumar(a, b):\n",
    "    return a + b\n",
    "\n",
    "print(sumar(10, 5))"
   ]
  },
  {
   "cell_type": "code",
   "execution_count": null,
   "id": "f95aeab7",
   "metadata": {},
   "outputs": [
    {
     "name": "stdout",
     "output_type": "stream",
     "text": [
      "12\n",
      "11\n"
     ]
    }
   ],
   "source": [
    "doblar = lambda x: x * 2\n",
    "print(doblar(6))\n",
    "\n",
    "sumar = lambda x, y: x + y\n",
    "print(sumar(4, 7))"
   ]
  },
  {
   "cell_type": "markdown",
   "id": "1b6a0ea9",
   "metadata": {},
   "source": [
    "## 7. Manejo de Errores"
   ]
  },
  {
   "cell_type": "code",
   "execution_count": null,
   "id": "e2ebeda0",
   "metadata": {},
   "outputs": [
    {
     "name": "stdout",
     "output_type": "stream",
     "text": [
      "Error: no se puede convertir texto a número\n",
      "Ejecución terminada\n"
     ]
    }
   ],
   "source": [
    "try:\n",
    "    num = int(\"hola\")\n",
    "except ValueError:\n",
    "    print(\"Error: no se puede convertir texto a número\")\n",
    "finally:\n",
    "    print(\"Ejecución terminada\")"
   ]
  },
  {
   "cell_type": "markdown",
   "id": "afb18cec",
   "metadata": {},
   "source": [
    "## 8. Módulos e Importaciones"
   ]
  },
  {
   "cell_type": "code",
   "execution_count": null,
   "id": "68a6bb35",
   "metadata": {},
   "outputs": [
    {
     "name": "stdout",
     "output_type": "stream",
     "text": [
      "4.0\n",
      "3.141592653589793\n"
     ]
    }
   ],
   "source": [
    "import math\n",
    "print(math.sqrt(16))\n",
    "print(math.pi)"
   ]
  },
  {
   "cell_type": "code",
   "execution_count": null,
   "id": "5b89c751",
   "metadata": {},
   "outputs": [
    {
     "name": "stdout",
     "output_type": "stream",
     "text": [
      "120\n"
     ]
    }
   ],
   "source": [
    "import math as m\n",
    "print(m.factorial(5))"
   ]
  },
  {
   "cell_type": "code",
   "execution_count": null,
   "id": "6286b2ff",
   "metadata": {},
   "outputs": [
    {
     "name": "stdout",
     "output_type": "stream",
     "text": [
      "5.0\n",
      "8.0\n"
     ]
    }
   ],
   "source": [
    "from math import sqrt, pow\n",
    "print(sqrt(25))\n",
    "print(pow(2, 3))"
   ]
  },
  {
   "cell_type": "markdown",
   "id": "ded1b6c3",
   "metadata": {},
   "source": [
    "## 9. Ejemplo Final Integrado"
   ]
  },
  {
   "cell_type": "code",
   "execution_count": null,
   "id": "6ee34a26",
   "metadata": {},
   "outputs": [
    {
     "name": "stdout",
     "output_type": "stream",
     "text": [
      "Radio: 1, Área: 3.14\n",
      "Radio: 2, Área: 12.57\n",
      "Radio: 3, Área: 28.27\n",
      "Radio: 4, Área: 50.27\n",
      "Radio: 5, Área: 78.54\n"
     ]
    }
   ],
   "source": [
    "import math\n",
    "\n",
    "def area_circulo(radio):\n",
    "    \"\"\"Calcula el área de un círculo\"\"\"\n",
    "    return math.pi * radio ** 2\n",
    "\n",
    "radios = [1, 2, 3, 4, 5]\n",
    "areas = [area_circulo(r) for r in radios]\n",
    "\n",
    "for r, a in zip(radios, areas):\n",
    "    print(f\"Radio: {r}, Área: {a:.2f}\")"
   ]
  }
 ],
 "metadata": {
  "kernelspec": {
   "display_name": "Python 3",
   "language": "python",
   "name": "python3"
  },
  "language_info": {
   "codemirror_mode": {
    "name": "ipython",
    "version": 3
   },
   "file_extension": ".py",
   "mimetype": "text/x-python",
   "name": "python",
   "nbconvert_exporter": "python",
   "pygments_lexer": "ipython3",
   "version": "3.13.7"
  }
 },
 "nbformat": 4,
 "nbformat_minor": 5
}
