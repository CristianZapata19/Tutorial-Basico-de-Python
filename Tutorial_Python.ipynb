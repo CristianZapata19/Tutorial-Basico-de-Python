{
 "cells": [
  {
   "cell_type": "markdown",
   "metadata": {},
   "source": [
    " # Tutorial Básico de Python\n",
    "\n",
    "\n",
    "\n",
    " **Autor:** Cristian Andrés Zapata Arenas\n",
    "\n",
    " **Objetivo:** Introducir los conceptos fundamentales de Python para principiantes, con ejemplos claros y organizados.\n",
    "\n",
    "\n",
    "\n",
    " ¡Bienvenido al tutorial de operaciones básicas en Python! En esta introducción se mostrará cómo realizar cálculos sencillos como sumas, restas, multiplicaciones y divisiones, etc. Estas operaciones son el primer paso para entender cómo manipular datos y construir programas cada vez más complejos. Con una sintaxis clara y fácil de leer, Python te permite ejecutar estas operaciones de forma rápida y efectiva."
   ]
  },
  {
   "cell_type": "markdown",
   "metadata": {},
   "source": [
    " ## 1. Variables y Buenas Prácticas de Nombres"
   ]
  },
  {
   "cell_type": "code",
   "execution_count": null,
   "metadata": {},
   "outputs": [],
   "source": [
    "# Ejemplos de variables\n",
    "edad = 19\n",
    "nombre = \"Cristian\"\n",
    "pi = 3.1416\n",
    "es_estudiante = True\n",
    "\n",
    "print(edad, nombre, pi, es_estudiante)\n"
   ]
  },
  {
   "cell_type": "markdown",
   "metadata": {},
   "source": [
    " **Buenas prácticas:**\n",
    "\n",
    " - Usar **snake_case**: `mi_variable = 10`\n",
    "\n",
    " - Nombres descriptivos: `salario_mensual`, no `x1`\n",
    "\n",
    " - No usar palabras reservadas (`for`, `if`, `while`, etc.)"
   ]
  },
  {
   "cell_type": "code",
   "execution_count": null,
   "metadata": {},
   "outputs": [],
   "source": [
    "# Mala práctica\n",
    "a = 100  \n",
    "\n",
    "# Buena práctica\n",
    "salario_mensual = 100\n"
   ]
  },
  {
   "cell_type": "markdown",
   "metadata": {},
   "source": [
    " ## 2. Tipos de Datos en Python"
   ]
  },
  {
   "cell_type": "code",
   "execution_count": null,
   "metadata": {},
   "outputs": [],
   "source": [
    "print(type(10))       # <class 'int'>\n",
    "print(type(3.14))     # <class 'float'>\n",
    "print(type(\"Hola\"))   # <class 'str'>\n",
    "print(type(True))     # <class 'bool'>\n"
   ]
  },
  {
   "cell_type": "markdown",
   "metadata": {},
   "source": [
    " ## 3. Operaciones Básicas"
   ]
  },
  {
   "cell_type": "code",
   "execution_count": null,
   "metadata": {},
   "outputs": [],
   "source": [
    "a = 15\n",
    "b = 5\n",
    "\n",
    "print(a + b)   # Suma\n",
    "print(a - b)   # Resta\n",
    "print(a * b)   # Multiplicación\n",
    "print(a / b)   # División\n",
    "print(a // b)  # División entera\n",
    "print(a % b)   # Módulo\n",
    "print(a ** b)  # Potencia\n"
   ]
  },
  {
   "cell_type": "code",
   "execution_count": null,
   "metadata": {},
   "outputs": [],
   "source": [
    "x = True\n",
    "y = False\n",
    "\n",
    "print(x and y)\n",
    "print(x or y)\n",
    "print(not x)\n"
   ]
  },
  {
   "cell_type": "code",
   "execution_count": null,
   "metadata": {},
   "outputs": [],
   "source": [
    "nombre = \"Python\"\n",
    "saludo = \"Hola, \" + nombre\n",
    "repetir = nombre * 3\n",
    "\n",
    "print(saludo)\n",
    "print(repetir)\n",
    "\n",
    "texto = \"  hola mundo  \"\n",
    "print(texto.upper())\n",
    "print(texto.lower())\n",
    "print(texto.strip())\n",
    "print(texto.replace(\"mundo\", \"Cristian\"))\n"
   ]
  },
  {
   "cell_type": "markdown",
   "metadata": {},
   "source": [
    " ## 4. Estructuras de Datos"
   ]
  },
  {
   "cell_type": "code",
   "execution_count": null,
   "metadata": {},
   "outputs": [],
   "source": [
    "# Listas\n",
    "mi_lista = [1, 2, 3, 4]\n",
    "mi_lista.append(5)\n",
    "mi_lista.insert(2, 10)\n",
    "mi_lista.remove(3)\n",
    "ultimo = mi_lista.pop()\n",
    "\n",
    "print(mi_lista)\n",
    "print(\"Eliminado:\", ultimo)\n"
   ]
  },
  {
   "cell_type": "code",
   "execution_count": null,
   "metadata": {},
   "outputs": [],
   "source": [
    "# Tuplas\n",
    "mi_tupla = (1, \"Cristian\", True)\n",
    "print(mi_tupla[0])\n",
    "print(len(mi_tupla))\n"
   ]
  },
  {
   "cell_type": "code",
   "execution_count": null,
   "metadata": {},
   "outputs": [],
   "source": [
    "# Diccionarios\n",
    "mi_dic = {\"nombre\": \"Cristian\", \"edad\": 19}\n",
    "mi_dic[\"edad\"] = 20\n",
    "mi_dic[\"profesion\"] = \"Estudiante\"\n",
    "print(mi_dic)\n",
    "\n",
    "for clave, valor in mi_dic.items():\n",
    "    print(clave, \":\", valor)\n"
   ]
  },
  {
   "cell_type": "code",
   "execution_count": null,
   "metadata": {},
   "outputs": [],
   "source": [
    "# Sets\n",
    "mi_set = {1, 2, 2, 3}\n",
    "mi_set.add(4)\n",
    "mi_set.discard(2)\n",
    "print(mi_set)\n"
   ]
  },
  {
   "cell_type": "markdown",
   "metadata": {},
   "source": [
    " ## 5. Control de Flujo"
   ]
  },
  {
   "cell_type": "code",
   "execution_count": null,
   "metadata": {},
   "outputs": [],
   "source": [
    "# Condicionales\n",
    "edad = 19\n",
    "if edad < 18:\n",
    "    print(\"Menor de edad\")\n",
    "elif edad == 18:\n",
    "    print(\"Tienes 18 años\")\n",
    "else:\n",
    "    print(\"Mayor de edad\")\n"
   ]
  },
  {
   "cell_type": "code",
   "execution_count": null,
   "metadata": {},
   "outputs": [],
   "source": [
    "# Bucles\n",
    "for i in range(1, 6):\n",
    "    print(\"Número:\", i)\n",
    "\n",
    "contador = 0\n",
    "while contador < 5:\n",
    "    if contador == 2:\n",
    "        contador += 1\n",
    "        continue\n",
    "    if contador == 4:\n",
    "        break\n",
    "    print(contador)\n",
    "    contador += 1\n"
   ]
  },
  {
   "cell_type": "markdown",
   "metadata": {},
   "source": [
    " ## 6. Funciones"
   ]
  },
  {
   "cell_type": "code",
   "execution_count": null,
   "metadata": {},
   "outputs": [],
   "source": [
    "def saludar(nombre):\n",
    "    \"\"\"Función que imprime un saludo personalizado\"\"\"\n",
    "    print(f\"Hola, {nombre}\")\n",
    "\n",
    "saludar(\"Cristian\")\n"
   ]
  },
  {
   "cell_type": "code",
   "execution_count": null,
   "metadata": {},
   "outputs": [],
   "source": [
    "def sumar(a, b):\n",
    "    return a + b\n",
    "\n",
    "print(sumar(10, 5))\n"
   ]
  },
  {
   "cell_type": "code",
   "execution_count": null,
   "metadata": {},
   "outputs": [],
   "source": [
    "doblar = lambda x: x * 2\n",
    "print(doblar(6))\n",
    "\n",
    "sumar = lambda x, y: x + y\n",
    "print(sumar(4, 7))\n"
   ]
  },
  {
   "cell_type": "markdown",
   "metadata": {},
   "source": [
    " ## 7. Manejo de Errores"
   ]
  },
  {
   "cell_type": "code",
   "execution_count": null,
   "metadata": {},
   "outputs": [],
   "source": [
    "try:\n",
    "    num = int(\"hola\")\n",
    "except ValueError:\n",
    "    print(\"Error: no se puede convertir texto a número\")\n",
    "finally:\n",
    "    print(\"Ejecución terminada\")\n"
   ]
  },
  {
   "cell_type": "markdown",
   "metadata": {},
   "source": [
    " ## 8. Módulos e Importaciones"
   ]
  },
  {
   "cell_type": "code",
   "execution_count": null,
   "metadata": {},
   "outputs": [],
   "source": [
    "import math\n",
    "print(math.sqrt(16))\n",
    "print(math.pi)\n"
   ]
  },
  {
   "cell_type": "code",
   "execution_count": null,
   "metadata": {},
   "outputs": [],
   "source": [
    "import math as m\n",
    "print(m.factorial(5))\n"
   ]
  },
  {
   "cell_type": "code",
   "execution_count": null,
   "metadata": {},
   "outputs": [],
   "source": [
    "from math import sqrt, pow\n",
    "print(sqrt(25))\n",
    "print(pow(2, 3))\n"
   ]
  },
  {
   "cell_type": "markdown",
   "metadata": {},
   "source": [
    " ## 9. Ejemplo Final Integrado"
   ]
  },
  {
   "cell_type": "code",
   "execution_count": null,
   "metadata": {},
   "outputs": [],
   "source": [
    "import math\n",
    "\n",
    "def area_circulo(radio):\n",
    "    \"\"\"Calcula el área de un círculo\"\"\"\n",
    "    return math.pi * radio ** 2\n",
    "\n",
    "radios = [1, 2, 3, 4, 5]\n",
    "areas = [area_circulo(r) for r in radios]\n",
    "\n",
    "for r, a in zip(radios, areas):\n",
    "    print(f\"Radio: {r}, Área: {a:.2f}\")\n",
    "\n",
    "\n"
   ]
  }
 ],
 "metadata": {
  "language_info": {
   "codemirror_mode": {
    "name": "ipython",
    "version": 3
   },
   "file_extension": ".py",
   "mimetype": "text/x-python",
   "name": "python",
   "nbconvert_exporter": "python",
   "pygments_lexer": "ipython3",
   "version": 3
  }
 },
 "nbformat": 4,
 "nbformat_minor": 2
}
